{
 "cells": [
  {
   "cell_type": "code",
   "execution_count": 2,
   "metadata": {},
   "outputs": [],
   "source": [
    "import numpy as np\n",
    "import matplotlib.pyplot as plt\n",
    "import pandas as pd\n",
    "\n",
    "from sklearn.preprocessing import PolynomialFeatures\n",
    "from sklearn.model_selection import train_test_split \n",
    "import seaborn as sns\n",
    "from scipy import stats\n",
    "from sklearn import datasets, linear_model\n",
    "from sklearn.metrics import mean_squared_error\n",
    "from sklearn.preprocessing import StandardScaler\n",
    "from sklearn.preprocessing import StandardScaler\n",
    "from statsmodels.stats.descriptivestats import sign_test\n",
    "from clint.textui import progress"
   ]
  },
  {
   "cell_type": "code",
   "execution_count": 3,
   "metadata": {},
   "outputs": [],
   "source": [
    "# dataset = pd.read_csv('data_v1-01.csv')\n",
    "# X_base = dataset.iloc[:, 0:1].values\n",
    "# y_base = dataset.iloc[:, 1].values\n",
    "data = np.genfromtxt('data_v1-04.csv', delimiter=',', skip_header=True)\n",
    "X_base = data[:, 0]\n",
    "y_base = data[:, 1]\n",
    "N = 50"
   ]
  },
  {
   "cell_type": "code",
   "execution_count": 6,
   "metadata": {},
   "outputs": [],
   "source": [
    "\n",
    "f = plt.figure()\n",
    "plt.scatter(X_base, y_base, color='red') \n",
    "plt.title('Исходные данные')\n",
    "plt.ylabel('y')\n",
    "plt.xlabel('X')\n",
    "plt.savefig(f'base_data.png',dpi=300)\n",
    "plt.close(f)"
   ]
  },
  {
   "cell_type": "code",
   "execution_count": 15,
   "metadata": {},
   "outputs": [],
   "source": [
    "class RegressionModel:\n",
    "    def __init__(self, model, test_size=0.3, m=4):\n",
    "        self.model = model\n",
    "        X_train, X_test, y_train, y_test = train_test_split(X_base, y_base, test_size=test_size, random_state=42)\n",
    "        scaler = StandardScaler()\n",
    "        scaler.fit(X_train.reshape(-1, 1))\n",
    "        self.X_train = scaler.transform(X_train.reshape(-1, 1))\n",
    "        self.X_test = scaler.transform(X_test.reshape(-1, 1))\n",
    "        target_scaler = StandardScaler()\n",
    "        target_scaler.fit(y_train.reshape(-1, 1))\n",
    "        self.y_train = target_scaler.transform(y_train.reshape(-1, 1))\n",
    "        self.y_test = target_scaler.transform(y_test.reshape(-1, 1))\n",
    "        self.test_size = test_size\n",
    "        self.min = np.min(X_train, axis=0)\n",
    "        self.max = np.max(X_train, axis=0)\n",
    "        self.m = m\n",
    "        self.transformed_X_train = self.transform(self.X_train)\n",
    "        self.transformed_X_test = self.transform(self.X_test)\n",
    "        self.fit()\n",
    "    \n",
    "    def transform(self, X):\n",
    "        c = np.linspace(self.min, self.max, self.m)\n",
    "        transformed = c[0]*(X**0)\n",
    "        for i in range(1, self.m):\n",
    "            transformed = np.c_[transformed, c[i]*(X**i)]\n",
    "        if (self.m == 1):\n",
    "            return transformed.reshape(-1, 1)\n",
    "        return transformed\n",
    "    \n",
    "    \n",
    "    def fit(self):\n",
    "        self.model.fit(self.transformed_X_train, self.y_train)\n",
    "    \n",
    "    def predict(self, X):\n",
    "        return self.model.predict(X)\n",
    "    \n",
    "    def predict_train(self):\n",
    "        return self.model.predict(self.transformed_X_train)\n",
    "    \n",
    "    def predict_test(self):\n",
    "        return self.model.predict(self.transformed_X_test)\n",
    "    \n",
    "    def mse_train(self):\n",
    "        y_pred = self.predict_train()\n",
    "        return mean_squared_error(self.y_train, y_pred)\n",
    "    \n",
    "    def mse_test(self):\n",
    "        y_pred = self.predict_test()\n",
    "        return mean_squared_error(self.y_test, y_pred)\n",
    "    \n",
    "    def bias_train(self):\n",
    "        return self.y_train - self.predict_train()\n",
    "    \n",
    "    def bias_test(self):\n",
    "        return self.y_test - self.predict_test()"
   ]
  },
  {
   "cell_type": "code",
   "execution_count": 21,
   "metadata": {
    "id": "w1AfD2E3vCrJ"
   },
   "outputs": [
    {
     "name": "stderr",
     "output_type": "stream",
     "text": [
      "/home/shurik/.local/lib/python3.7/site-packages/sklearn/linear_model/_ridge.py:148: LinAlgWarning: Ill-conditioned matrix (rcond=9.49914e-17): result may not be accurate.\n",
      "  overwrite_a=True).T\n",
      "/home/shurik/.local/lib/python3.7/site-packages/sklearn/linear_model/_ridge.py:148: LinAlgWarning: Ill-conditioned matrix (rcond=3.47437e-17): result may not be accurate.\n",
      "  overwrite_a=True).T\n",
      "/home/shurik/.local/lib/python3.7/site-packages/sklearn/linear_model/_ridge.py:148: LinAlgWarning: Ill-conditioned matrix (rcond=7.5636e-18): result may not be accurate.\n",
      "  overwrite_a=True).T\n",
      "/home/shurik/.local/lib/python3.7/site-packages/sklearn/linear_model/_ridge.py:148: LinAlgWarning: Ill-conditioned matrix (rcond=2.30967e-18): result may not be accurate.\n",
      "  overwrite_a=True).T\n",
      "/home/shurik/.local/lib/python3.7/site-packages/sklearn/linear_model/_ridge.py:148: LinAlgWarning: Ill-conditioned matrix (rcond=6.40935e-19): result may not be accurate.\n",
      "  overwrite_a=True).T\n",
      "/home/shurik/.local/lib/python3.7/site-packages/sklearn/linear_model/_ridge.py:148: LinAlgWarning: Ill-conditioned matrix (rcond=1.9432e-19): result may not be accurate.\n",
      "  overwrite_a=True).T\n",
      "/home/shurik/.local/lib/python3.7/site-packages/sklearn/linear_model/_ridge.py:148: LinAlgWarning: Ill-conditioned matrix (rcond=5.82096e-20): result may not be accurate.\n",
      "  overwrite_a=True).T\n",
      "/home/shurik/.local/lib/python3.7/site-packages/sklearn/linear_model/_ridge.py:148: LinAlgWarning: Ill-conditioned matrix (rcond=1.76429e-20): result may not be accurate.\n",
      "  overwrite_a=True).T\n",
      "/home/shurik/.local/lib/python3.7/site-packages/sklearn/linear_model/_ridge.py:148: LinAlgWarning: Ill-conditioned matrix (rcond=5.34893e-21): result may not be accurate.\n",
      "  overwrite_a=True).T\n",
      "/home/shurik/.local/lib/python3.7/site-packages/sklearn/linear_model/_ridge.py:148: LinAlgWarning: Ill-conditioned matrix (rcond=1.49798e-21): result may not be accurate.\n",
      "  overwrite_a=True).T\n",
      "/home/shurik/.local/lib/python3.7/site-packages/sklearn/linear_model/_ridge.py:148: LinAlgWarning: Ill-conditioned matrix (rcond=1.86324e-24): result may not be accurate.\n",
      "  overwrite_a=True).T\n",
      "/home/shurik/.local/lib/python3.7/site-packages/sklearn/linear_model/_ridge.py:148: LinAlgWarning: Ill-conditioned matrix (rcond=9.80921e-17): result may not be accurate.\n",
      "  overwrite_a=True).T\n",
      "/home/shurik/.local/lib/python3.7/site-packages/sklearn/linear_model/_ridge.py:148: LinAlgWarning: Ill-conditioned matrix (rcond=2.96268e-17): result may not be accurate.\n",
      "  overwrite_a=True).T\n",
      "/home/shurik/.local/lib/python3.7/site-packages/sklearn/linear_model/_ridge.py:148: LinAlgWarning: Ill-conditioned matrix (rcond=8.54997e-18): result may not be accurate.\n",
      "  overwrite_a=True).T\n",
      "/home/shurik/.local/lib/python3.7/site-packages/sklearn/linear_model/_ridge.py:148: LinAlgWarning: Ill-conditioned matrix (rcond=2.455e-18): result may not be accurate.\n",
      "  overwrite_a=True).T\n",
      "/home/shurik/.local/lib/python3.7/site-packages/sklearn/linear_model/_ridge.py:148: LinAlgWarning: Ill-conditioned matrix (rcond=7.38081e-19): result may not be accurate.\n",
      "  overwrite_a=True).T\n",
      "/home/shurik/.local/lib/python3.7/site-packages/sklearn/linear_model/_ridge.py:148: LinAlgWarning: Ill-conditioned matrix (rcond=1.9476e-19): result may not be accurate.\n",
      "  overwrite_a=True).T\n",
      "/home/shurik/.local/lib/python3.7/site-packages/sklearn/linear_model/_ridge.py:148: LinAlgWarning: Ill-conditioned matrix (rcond=6.2831e-20): result may not be accurate.\n",
      "  overwrite_a=True).T\n",
      "/home/shurik/.local/lib/python3.7/site-packages/sklearn/linear_model/_ridge.py:148: LinAlgWarning: Ill-conditioned matrix (rcond=1.58095e-20): result may not be accurate.\n",
      "  overwrite_a=True).T\n"
     ]
    }
   ],
   "source": [
    "mse_test_lin = []\n",
    "mse_train_lin = []\n",
    "for i in range(1, N+1):\n",
    "    lin_regr = linear_model.LinearRegression()\n",
    "    lin_model = RegressionModel(lin_regr, m=i)\n",
    "    mse_test_lin.append(lin_model.mse_test())\n",
    "    mse_train_lin.append(lin_model.mse_train())\n",
    "alpha = 0.0001\n",
    "mse_test_ridge_0 = []\n",
    "mse_train_ridge_0 = []\n",
    "for i in range(1, N+1):\n",
    "    ridge_regr = linear_model.Ridge(alpha=alpha, fit_intercept=False)\n",
    "    ridge_model = RegressionModel(ridge_regr, m=i)\n",
    "    mse_test_ridge_0.append(ridge_model.mse_test())\n",
    "    mse_train_ridge_0.append(ridge_model.mse_train())\n",
    "alpha = 1000\n",
    "mse_test_ridge_1 = []\n",
    "mse_train_ridge_1 = []\n",
    "for i in range(1, N+1):\n",
    "    ridge_regr = linear_model.Ridge(alpha=alpha, fit_intercept=False)\n",
    "    ridge_model = RegressionModel(ridge_regr, m=i)\n",
    "    mse_test_ridge_1.append(ridge_model.mse_test())\n",
    "    mse_train_ridge_1.append(ridge_model.mse_train())\n",
    "    \n",
    "f = plt.figure()\n",
    "plt.plot(mse_train_lin, 'r', label = \"linear train\") \n",
    "plt.plot(mse_train_ridge_0, 'g', label=\"ridge λ ~ 0 train\") \n",
    "plt.plot(mse_train_ridge_1, 'b', label=\"ridge λ >> 0 train\")\n",
    "plt.plot(mse_test_lin, 'y', label = \"linear test\") \n",
    "plt.plot(mse_test_ridge_0, 'brown', label=\"ridge λ ~ 0 test\") \n",
    "plt.plot(mse_test_ridge_1, 'black', label=\"ridge λ >> 0 test\")\n",
    "plt.title('Зависимость MSE регрессионных моделей на обучающей и тестовой выборках от параметра m')\n",
    "plt.ylabel('MSE')\n",
    "plt.xlabel('m - число регрессоров')\n",
    "plt.legend()\n",
    "plt.savefig(f'MSE_m.png',dpi=300)\n",
    "plt.close(f)\n"
   ]
  },
  {
   "cell_type": "code",
   "execution_count": 34,
   "metadata": {},
   "outputs": [],
   "source": [
    "\n",
    "lin_regr = linear_model.LinearRegression()\n",
    "lin_model = RegressionModel(lin_regr)\n",
    "\n",
    "f = plt.figure()\n",
    "plt.scatter(X_base, y_base, color='red')\n",
    "tmp = pd.DataFrame(np.c_[lin_model.X_train, lin_model.predict_train()], columns=['X', 'y']).sort_values(by=['X'])\n",
    "plt.plot(tmp['X'], tmp['y'], color='green', label = \"linear train\") \n",
    "tmp = pd.DataFrame(np.c_[lin_model.X_test, lin_model.predict_test()], columns=['X', 'y']).sort_values(by=['X'])\n",
    "plt.plot(tmp['X'], tmp['y'], color='blue', label = \"linear test\") \n",
    "plt.title('linear (x)')\n",
    "plt.ylabel('y')\n",
    "plt.xlabel('x')\n",
    "plt.legend()\n",
    "plt.savefig(f'l_x.png',dpi=300)\n",
    "plt.close(f)\n",
    "\n",
    "ridge_regr = linear_model.Ridge(alpha=0.0001, fit_intercept=False)\n",
    "ridge_model = RegressionModel(ridge_regr)\n",
    "\n",
    "f = plt.figure()\n",
    "plt.scatter(X_base, y_base, color='red') \n",
    "tmp = pd.DataFrame(np.c_[ridge_model.X_train, ridge_model.predict_train()], columns=['X', 'y']).sort_values(by=['X'])\n",
    "plt.plot(tmp['X'], tmp['y'], color='green', label = \"ridge λ ~ 0 train\") \n",
    "tmp = pd.DataFrame(np.c_[ridge_model.X_test, ridge_model.predict_test()], columns=['X', 'y']).sort_values(by=['X'])\n",
    "plt.plot(tmp['X'], tmp['y'], color='blue', label = \"ridge λ ~ 0 test\") \n",
    "plt.title('ridge λ ~ 0 (x)')\n",
    "plt.ylabel('y')\n",
    "plt.xlabel('x')\n",
    "plt.legend()\n",
    "plt.savefig(f'r_0.png',dpi=300)\n",
    "plt.close(f)\n",
    "\n",
    "ridge_regr = linear_model.Ridge(alpha=1000, fit_intercept=False)\n",
    "ridge_model = RegressionModel(ridge_regr)\n",
    "\n",
    "f = plt.figure()\n",
    "plt.scatter(X_base, y_base, color='red') \n",
    "tmp = pd.DataFrame(np.c_[ridge_model.X_train, ridge_model.predict_train()], columns=['X', 'y']).sort_values(by=['X'])\n",
    "plt.plot(tmp['X'], tmp['y'], color='green', label = \"ridge λ >> 0  train\") \n",
    "tmp = pd.DataFrame(np.c_[ridge_model.X_test, ridge_model.predict_test()], columns=['X', 'y']).sort_values(by=['X'])\n",
    "plt.plot(tmp['X'], tmp['y'], color='blue', label = \"ridge λ >> 0  test\") \n",
    "plt.title('ridge λ >> 0  (x)')\n",
    "plt.ylabel('y')\n",
    "plt.xlabel('x')\n",
    "plt.legend()\n",
    "plt.savefig(f'r_1.png',dpi=300)\n",
    "plt.close(f)\n",
    "\n",
    "    \n",
    "\n"
   ]
  },
  {
   "cell_type": "code",
   "execution_count": 35,
   "metadata": {},
   "outputs": [],
   "source": [
    "alphas = [10**(i) for i in range (-4, 4)]\n",
    "coefs = []\n",
    "for a in alphas:\n",
    "    regr = linear_model.Ridge(alpha=a, fit_intercept=False)\n",
    "    ridge = RegressionModel(regr, m=10)\n",
    "    coefs.append(ridge.model.coef_.reshape(-1))\n",
    "f = plt.figure()\n",
    "ax = plt.gca()\n",
    "\n",
    "ax.plot(alphas, coefs)\n",
    "ax.set_xscale('log')\n",
    "ax.set_xlim(ax.get_xlim()[::-1])\n",
    "plt.xlabel('alpha')\n",
    "plt.ylabel('coefs')\n",
    "ax.invert_xaxis()\n",
    "plt.legend([f'X{i}' for i in range(len(coefs[0]))])\n",
    "plt.title('Зависимость значений коэффициентов регрессионной модели от параметра гребневой регрессии')\n",
    "plt.savefig(f'coef.png',dpi=300)\n",
    "plt.close(f)"
   ]
  },
  {
   "cell_type": "code",
   "execution_count": 37,
   "metadata": {},
   "outputs": [],
   "source": [
    "for name, model in [(\"linear\", linear_model.LinearRegression()), (\"ridge λ ~ 0\", linear_model.Ridge(alpha=0.001, fit_intercept=False)), (\"ridge λ >> 0\", linear_model.Ridge(alpha=1000, fit_intercept=False))]:\n",
    "    res_var_test = {}\n",
    "    res_var_train = {}\n",
    "    bias_test = {}\n",
    "    bias_train = {}\n",
    "    for i in range(100):\n",
    "        lin_regr = model\n",
    "        lin_model = RegressionModel(lin_regr, m=10)\n",
    "        y_pred_test = lin_model.predict_test()\n",
    "        for x, y in zip(lin_model.X_test, y_pred_test):\n",
    "            if x[0] in res_var_test:\n",
    "                res_var_test[x[0]].append(y[0])\n",
    "            else:\n",
    "                res_var_test.update({x[0]:[y[0]]})\n",
    "        y_pred_train = lin_model.predict_train()\n",
    "        for x, y in zip(lin_model.X_train, y_pred_train):\n",
    "            if x[0] in res_var_train:\n",
    "                res_var_train[x[0]].append(y[0])\n",
    "            else:\n",
    "                res_var_train.update({x[0]:[y[0]]})\n",
    "\n",
    "        for x, y in zip(lin_model.X_test, lin_model.bias_test()):\n",
    "            if x[0] in bias_test:\n",
    "                bias_test[x[0]].append(y[0])\n",
    "            else:\n",
    "                bias_test.update({x[0]:[y[0]]})\n",
    "\n",
    "        for x, y in zip(lin_model.X_train, lin_model.bias_train()):\n",
    "            if x[0] in bias_train:\n",
    "                bias_train[x[0]].append(y[0])\n",
    "            else:\n",
    "                bias_train.update({x[0]:[y[0]]})\n",
    "\n",
    "    tmp_res = [(x, np.var(y)) for x, y in sorted(res_var_test.items())]\n",
    "    tmp_var_test = pd.DataFrame(tmp_res, columns=['X', 'y']).sort_values(by=['X'])\n",
    "    tmp_res = [(x, np.var(y)) for x, y in sorted(res_var_train.items())]\n",
    "    tmp_var_train = pd.DataFrame(tmp_res, columns=['X', 'y']).sort_values(by=['X'])\n",
    "    tmp_res = [(x, np.average(y)) for x, y in sorted(bias_test.items())]\n",
    "    tmp_bias_test = pd.DataFrame(tmp_res, columns=['X', 'y']).sort_values(by=['X'])\n",
    "    tmp_res = [(x, np.average(y)) for x, y in sorted(bias_train.items())]\n",
    "    tmp_bias_train = pd.DataFrame(tmp_res, columns=['X', 'y']).sort_values(by=['X'])\n",
    "\n",
    "    f = plt.figure()\n",
    "    plt.plot(tmp_var_test['X'], tmp_var_test['y'], label='var_test', color='blue')\n",
    "    plt.plot(tmp_var_train['X'], tmp_var_train['y'], label='var_train', color='green')\n",
    "    plt.yscale('log')\n",
    "    #plt.plot(range(2, 9), mse[2], label='mse')\n",
    "    plt.title(f'Variance (x) {name}')\n",
    "    plt.xlabel('x')\n",
    "    plt.ylabel('Variance log')\n",
    "    plt.legend()\n",
    "    plt.savefig(f'var_{name}.png',dpi=300)\n",
    "    plt.close(f)\n",
    "\n",
    "\n",
    "    f = plt.figure()\n",
    "    plt.plot(tmp_bias_test['X'], tmp_bias_test['y'], label='bias_test', color='blue')\n",
    "    plt.plot(tmp_bias_train['X'], tmp_bias_train['y'], label='bias_train', color='green')\n",
    "    #plt.plot(range(2, 9), mse[2], label='mse')\n",
    "    plt.title(f'Bias (x) {name}')\n",
    "    plt.xlabel('x')\n",
    "    plt.ylabel('Bias')\n",
    "    plt.legend()\n",
    "    plt.savefig(f'bias_{name}.png',dpi=300)\n",
    "    plt.close(f)\n",
    "\n",
    "\n",
    "    f = plt.figure()\n",
    "    plt.hist(tmp_var_test['y'], 10,density=True, facecolor='blue')\n",
    "    plt.title(f'Variance test {name}')\n",
    "    plt.savefig(f'Bar_var_test_{name}.png')\n",
    "    plt.close(f)\n",
    "\n",
    "    f = plt.figure()\n",
    "    plt.hist(tmp_var_train['y'], 10,density=True, facecolor='blue')\n",
    "    plt.title(f'Variance train {name}')\n",
    "    plt.savefig(f'Bar_var_train_{name}.png')\n",
    "    plt.close(f)\n",
    "\n",
    "\n",
    "    f = plt.figure()\n",
    "    plt.hist(tmp_bias_test['y'], 10,density=True, facecolor='blue')\n",
    "    plt.title(f'Bias test {name}')\n",
    "    plt.savefig(f'Bar_bias_test_{name}.png')\n",
    "    plt.close(f)\n",
    "\n",
    "    f = plt.figure()\n",
    "    plt.hist(tmp_bias_train['y'], 10,density=True, facecolor='blue')\n",
    "    plt.title(f'Bias train {name}')\n",
    "    plt.savefig(f'Bar_bias_train_{name}.png')\n",
    "    plt.close(f)"
   ]
  },
  {
   "cell_type": "code",
   "execution_count": 41,
   "metadata": {
    "scrolled": true
   },
   "outputs": [
    {
     "data": {
      "image/png": "[encoded data removed]",
      "text/plain": [
       "<Figure size 1080x1440 with 3 Axes>"
      ]
     },
     "metadata": {
      "needs_background": "light"
     },
     "output_type": "display_data"
    }
   ],
   "source": [
    "lin_regr = linear_model.LinearRegression()\n",
    "lin_model = RegressionModel(lin_regr, m=10)\n",
    "lin_discrepancy = lin_model.bias_test()\n",
    "alpha = 0.0001\n",
    "ridge_regr = linear_model.Ridge(alpha=alpha, fit_intercept=False)\n",
    "ridge_model0 = RegressionModel(ridge_regr, m=10)\n",
    "ridge0_discrepancy = ridge_model0.bias_test()\n",
    "alpha = 1000\n",
    "ridge_regr = linear_model.Ridge(alpha=alpha, fit_intercept=False)\n",
    "ridge_model1 = RegressionModel(ridge_regr, m=10)\n",
    "ridge1_discrepancy = ridge_model1.bias_test()\n",
    "\n",
    "fig, ax = plt.subplots(3,1, figsize=(15,20))\n",
    "ax[0].scatter(lin_model.X_test, lin_discrepancy)\n",
    "ax[0].set_title(\"Зависимость остатков линейной регрессии\")\n",
    "ax[0].set_xlabel('X')\n",
    "ax[0].set_ylabel('discrepancy')\n",
    "ax[1].scatter(ridge_model0.X_test, ridge0_discrepancy, color=\"red\") \n",
    "ax[1].set_title(\"Зависимость остатков гребневой регрессии при λ ≈ 0 от X\")\n",
    "ax[1].set_xlabel('X')\n",
    "ax[1].set_ylabel('discrepancy')\n",
    "ax[2].scatter(ridge_model1.X_test, ridge1_discrepancy, color=\"green\")\n",
    "ax[2].set_title(\"Зависимость остатков гребневой регрессии при λ >> 0 от X\")\n",
    "ax[2].set_xlabel('X')\n",
    "ax[2].set_ylabel('discrepancy')\n",
    "\n",
    "plt.savefig('discrepancy.png')"
   ]
  },
  {
   "cell_type": "markdown",
   "metadata": {},
   "source": [
    "Визуально в случае линейной регрессии и гребневой регресии с параметром λ ≈ 0 не удается обнаружить признаки непостоянства дисперсии, но в случае гребневой регрессии с параметром λ >> 0 визуально заметен тренд\n",
    "\n",
    "Рассчитаем средние для трех выборок"
   ]
  },
  {
   "cell_type": "code",
   "execution_count": 42,
   "metadata": {},
   "outputs": [
    {
     "name": "stdout",
     "output_type": "stream",
     "text": [
      "-0.22307134261751654 M[e] линейная регрессия\n",
      "-0.22299204628049166 M[e] гребневая регрессия с параметром λ ≈ 0\n",
      "-0.09047541201242722 M[e] гребневая регрессия с параметром λ >> 0\n"
     ]
    }
   ],
   "source": [
    "#Визуально в случае линейной регрессии и гребневой регресии с параметром λ ≈ 0 не удается обнаружить признаки непостоянства дисперсии, но в случае гребневой регрессии с параметром λ >> 0 визуально заметен тренд\n",
    "\n",
    "#Рассчитаем средние для трех выборок\n",
    "\n",
    "print(np.mean(lin_discrepancy), 'M[e] линейная регрессия')\n",
    "print(np.mean(ridge0_discrepancy), 'M[e] гребневая регрессия с параметром λ ≈ 0')\n",
    "print(np.mean(ridge1_discrepancy), 'M[e] гребневая регрессия с параметром λ >> 0')\n"
   ]
  },
  {
   "cell_type": "markdown",
   "metadata": {},
   "source": [
    "Проверим выборки на нормальность. Выберем уровень значимости = 0.05"
   ]
  },
  {
   "cell_type": "code",
   "execution_count": 43,
   "metadata": {},
   "outputs": [
    {
     "name": "stdout",
     "output_type": "stream",
     "text": [
      "[0.1430189]\n",
      "The null hypothesis cannot be rejected\n",
      "[0.14300229]\n",
      "The null hypothesis cannot be rejected\n",
      "[0.54055453]\n",
      "The null hypothesis cannot be rejected\n"
     ]
    }
   ],
   "source": [
    "def result(p):\n",
    "    print(p)\n",
    "    eps = 0.05\n",
    "    if p < eps:\n",
    "        print(\"The null hypothesis can be rejected\")\n",
    "    else:\n",
    "        print(\"The null hypothesis cannot be rejected\")\n",
    "k2, p = stats.normaltest(lin_discrepancy)\n",
    "eps = 0.05\n",
    "result(p)\n",
    "k2, p = stats.normaltest(ridge0_discrepancy)\n",
    "eps = 0.05\n",
    "result(p)\n",
    "k2, p = stats.normaltest(ridge1_discrepancy)\n",
    "eps = 0.05\n",
    "result(p)\n"
   ]
  },
  {
   "cell_type": "markdown",
   "metadata": {},
   "source": [
    "Нулевая гипотеза - что распределение нормальное - принимается на уровне значимости 0.05"
   ]
  },
  {
   "cell_type": "markdown",
   "metadata": {},
   "source": [
    "Проверим гипотезы о равенстве мат ожидания нулю для трех выборок. В случае линейной регрессии воспользуемся критерием знаков, тк распределение нельзя считать нормальным и тестом Стьюдента в двух других случаях. Во всех случаях принимаем нулевую гипотезу(мат ожидание = 0) на уровне значимости 0.05"
   ]
  },
  {
   "cell_type": "code",
   "execution_count": 45,
   "metadata": {},
   "outputs": [
    {
     "name": "stdout",
     "output_type": "stream",
     "text": [
      "0.008045928133225097\n",
      "The null hypothesis can be rejected\n",
      "[0.00942017]\n",
      "The null hypothesis can be rejected\n",
      "[0.33803162]\n",
      "The null hypothesis cannot be rejected\n"
     ]
    }
   ],
   "source": [
    "stat, p = sign_test(lin_discrepancy)\n",
    "result(p)\n",
    "stat, p = stats.ttest_1samp(ridge0_discrepancy, 0.0)\n",
    "result(p)\n",
    "stat, p = stats.ttest_1samp(ridge1_discrepancy, 0.0)\n",
    "result(p)"
   ]
  },
  {
   "cell_type": "markdown",
   "metadata": {},
   "source": [
    "Таким образом, визуальным анализом определяется зависимость остатков регрессии от входного параметра в случае гребневой регрессии с λ >> 0. Стат тестами была отклонена нормальность в случае линейной регрессии и гребневой регрессии с λ ~ 0. "
   ]
  }
 ],
 "metadata": {
  "kernelspec": {
   "display_name": "Python 3",
   "language": "python",
   "name": "python3"
  },
  "language_info": {
   "codemirror_mode": {
    "name": "ipython",
    "version": 3
   },
   "file_extension": ".py",
   "mimetype": "text/x-python",
   "name": "python",
   "nbconvert_exporter": "python",
   "pygments_lexer": "ipython3",
   "version": "3.7.3"
  }
 },
 "nbformat": 4,
 "nbformat_minor": 2
}
